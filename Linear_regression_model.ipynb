{
  "nbformat": 4,
  "nbformat_minor": 0,
  "metadata": {
    "colab": {
      "name": "Linear regression model.ipynb",
      "provenance": [],
      "collapsed_sections": [],
      "authorship_tag": "ABX9TyOUvMqXI5WSLta8HmxrbHrk",
      "include_colab_link": true
    },
    "kernelspec": {
      "name": "python3",
      "display_name": "Python 3"
    }
  },
  "cells": [
    {
      "cell_type": "markdown",
      "metadata": {
        "id": "view-in-github",
        "colab_type": "text"
      },
      "source": [
        "<a href=\"https://colab.research.google.com/github/Akhay-Kumar/Machine-Learning-ML/blob/main/Linear_regression_model.ipynb\" target=\"_parent\"><img src=\"https://colab.research.google.com/assets/colab-badge.svg\" alt=\"Open In Colab\"/></a>"
      ]
    },
    {
      "cell_type": "markdown",
      "metadata": {
        "id": "_LGGvNY1EdnV"
      },
      "source": [
        "**Linear regression model**"
      ]
    },
    {
      "cell_type": "code",
      "metadata": {
        "id": "kfvRWeqbAbWy"
      },
      "source": [
        "from random import seed\n",
        "from random import randrange\n",
        "from csv import reader\n",
        "from math import sqrt"
      ],
      "execution_count": null,
      "outputs": []
    },
    {
      "cell_type": "code",
      "metadata": {
        "id": "QgPLajIBB6dO"
      },
      "source": [
        "final_coeff = list()"
      ],
      "execution_count": null,
      "outputs": []
    },
    {
      "cell_type": "code",
      "metadata": {
        "id": "22Tugo77B-0Q"
      },
      "source": [
        "def load_csv(filename):\n",
        "    #TODO: create an empty list for storing the data from csv file\n",
        "\tdataset =[]\n",
        "    #TODO: pass a filename into open() method and open a file in read mode\n",
        "\twith open(filename,'r') as file:\n",
        "        #TODO: call a reader() method with file as argument \n",
        "\t\tcsv_reader = reader(file)\n",
        "        #TODO: Iterate over the csv_reader\n",
        "\t\tfor row in csv_reader:\n",
        "\t\t\tif not row:\n",
        "\t\t\t\tcontinue\n",
        "                #TODO: append row into dataset\n",
        "\t\t\tdataset.append(row)\n",
        "\treturn dataset"
      ],
      "execution_count": null,
      "outputs": []
    },
    {
      "cell_type": "code",
      "metadata": {
        "id": "iVskOu4yCUMZ"
      },
      "source": [
        "def str_column_to_float(dataset, column):\n",
        "    #TODO: Iterate over each row in the dataset\n",
        "\tfor row in dataset:\n",
        "        #TODO: convert the row[column] of dataset into float(). Use strip() method before converting \n",
        "        #to float. \n",
        "\t\trow[column] = float(row[column].strip())\n"
      ],
      "execution_count": null,
      "outputs": []
    },
    {
      "cell_type": "code",
      "metadata": {
        "id": "vQEHT1fSC4Pz"
      },
      "source": [
        "def train_test_split(dataset, split):\n",
        "\t#TODO: create the empty list\n",
        "\ttrain = list()\n",
        "    #TODO: calculate the train size based on splitting data with size of dataset\n",
        "\ttrain_size = split * len(dataset)\n",
        "\tdataset_copy = list(dataset)\n",
        "\twhile len(train) < train_size:\n",
        "\t\tindex = randrange(len(dataset_copy))\n",
        "\t\ttrain.append(dataset_copy.pop(index))\n",
        "\treturn train, dataset_copy"
      ],
      "execution_count": null,
      "outputs": []
    },
    {
      "cell_type": "code",
      "metadata": {
        "id": "uWRYmaWjDPxu"
      },
      "source": [
        "def rmse_metric(actual, predicted):\n",
        "\t#TODO: Initialize sum_error as 0.0\n",
        "\tsum_error = 0.0\n",
        "\tfor i in range(len(actual)):\n",
        "        #TODO: calculate the prediction_error as the difference between predicted_i and actual_i\n",
        "\t\tprediction_error = predicted[i]-actual[i]\n",
        "        #TODO: calculate the sum_error as the sum of square of all prediction_error\n",
        "\t\tsum_error += (prediction_error**2)\n",
        "    #TODO: calculate the mean_error as the division between sum_error by len of actual\n",
        "\tmean_error = sum_error/float(len(actual))\n",
        "    #TODO: return the square root of mean_error\n",
        "\treturn sqrt(mean_error)\n"
      ],
      "execution_count": null,
      "outputs": []
    },
    {
      "cell_type": "code",
      "metadata": {
        "id": "jwJH3l3VDT94"
      },
      "source": [
        "def evaluate_algorithm(dataset, algorithm, split, *args):\n",
        "\t#TODO: call the train_test_split() method for spliting dataset with split value\n",
        "\ttrain, test = train_test_split(dataset,split)\n",
        "    #TODO: create an empty list\n",
        "\ttest_set = list()\n",
        "    #TODO: Iterate over each row of test\n",
        "\tfor row in test:\n",
        "\t\trow_copy = list(row)\n",
        "\t\trow_copy[-1] = None\n",
        "\t\ttest_set.append(row_copy)\n",
        "\tpredicted = algorithm(train, test_set, *args)\n",
        "\tactual = [row[-1] for row in test]\n",
        "\trmse = rmse_metric(actual, predicted)\n",
        "\t#TODO: return the rmse\n",
        "\treturn rmse\n"
      ],
      "execution_count": null,
      "outputs": []
    },
    {
      "cell_type": "code",
      "metadata": {
        "id": "IFSZjjTtDazA"
      },
      "source": [
        "def mean(values):\n",
        "\t#TODO: return the mean value of a list of numbers\n",
        "    return sum(values)/float(len(values))\n",
        "\n",
        "def covariance(x, mean_x, y, mean_y):\n",
        "\t#TODO: Initialize the covar as 0.0\n",
        "\tcovar = 0.0\n",
        "\tfor i in range(len(x)):\n",
        "        #TODO: calculate the covar as the sum of product of (x_i-mean_x) and (y_i-mean_y)\n",
        "\t\tcovar += (x[i]-mean_x)*(y[i]-mean_y)\n",
        "\treturn covar\n"
      ],
      "execution_count": null,
      "outputs": []
    },
    {
      "cell_type": "code",
      "metadata": {
        "id": "s026LE9CDarZ"
      },
      "source": [
        "def variance(values, mean):\n",
        "\treturn sum([(x-mean)**2 for x in values])"
      ],
      "execution_count": null,
      "outputs": []
    },
    {
      "cell_type": "code",
      "metadata": {
        "id": "LnUipuqZDgKF"
      },
      "source": [
        "def coefficients(dataset):\n",
        "\tx = [row[0] for row in dataset]\n",
        "\ty = [row[1] for row in dataset]\n",
        "\t#TODO: call the mean method for x and y\n",
        "\tx_mean, y_mean = mean(x), mean(y)\n",
        "    #TODO: find the b1 by calling the covariance method divide by the variance method\n",
        "\tb1 = covariance(x,x_mean,y,y_mean)/variance(x,x_mean)\n",
        "    #TODO calculate the b0 as y_mean - b1 * x_mean\n",
        "\tb0 = y_mean-b1*x_mean\n",
        "    #TODO: append b0 in final_coeff list\n",
        "\tfinal_coeff.append(b0)\n",
        "    #TODO: append b1 in final_coeff list\n",
        "\tfinal_coeff.append(b1)\n",
        "\treturn [b0, b1]"
      ],
      "execution_count": null,
      "outputs": []
    },
    {
      "cell_type": "code",
      "metadata": {
        "id": "6LarCFRdDkKR"
      },
      "source": [
        "def simple_linear_regression(train, test):\n",
        "\t#TODO: create an empty list\n",
        "\tpredictions = list()\n",
        "    #TODO:call the coefficients method on training dataset\n",
        "\tb0, b1 = coefficients(train)\n",
        "    #TODO: Iterate over each row of test\n",
        "\tfor row in test:\n",
        "        #TODO: calculate yhat as b0 + b1 * x\n",
        "\t\tyhat = b0+b1*row[0]\n",
        "        #TODO: append the yhat value in predictions list\n",
        "\t\tpredictions.append(yhat)\n",
        "\treturn predictions\n"
      ],
      "execution_count": null,
      "outputs": []
    },
    {
      "cell_type": "code",
      "metadata": {
        "colab": {
          "base_uri": "https://localhost:8080/"
        },
        "id": "Zvf2dIagDnXE",
        "outputId": "b48bc27d-0d4f-42f2-c84f-0259b9dff777"
      },
      "source": [
        "seed(1)\n",
        "# load and prepare data\n",
        "filename = \"/content/Insurance.csv\"\n",
        "#TODO: call the load_csv() to read filename\n",
        "dataset = load_csv(filename)\n",
        "for i in range(len(dataset[0])):\n",
        "\tstr_column_to_float(dataset, i)\n",
        "# evaluate algorithm\n",
        "split = 0.6\n",
        "rmse = evaluate_algorithm(dataset, simple_linear_regression, split)\n",
        "#TODO: print the RMSE value to 3 decimal places\n",
        "print(\"%.3f\" % rmse)\n"
      ],
      "execution_count": null,
      "outputs": [
        {
          "output_type": "stream",
          "text": [
            "33.630\n"
          ],
          "name": "stdout"
        }
      ]
    },
    {
      "cell_type": "code",
      "metadata": {
        "colab": {
          "base_uri": "https://localhost:8080/",
          "height": 329
        },
        "id": "rqBMLlTrDnPD",
        "outputId": "7d20f8aa-0b82-4b7b-a895-e48567a7e8e9"
      },
      "source": [
        "from numpy import array\n",
        "data = array(dataset)\n",
        "final_pred=list()\n",
        "for i in range(len(data)):\n",
        "    final_pred.append(final_coeff[0]+final_coeff[1]*data[i,0])\n",
        "    \n",
        "print(len(final_pred))\n",
        "\n",
        "import matplotlib.pyplot as plt\n",
        "plt.scatter(data[:,0],data[:,1])\n",
        "plt.title('Claim Vs Total Payment')\n",
        "plt.xlabel('number of claims')\n",
        "plt.ylabel('total payment for all the claims \\n in thousands of Swedish Kronor')\n",
        "\n",
        "plt.scatter(data[:,0],data[:,1])\n",
        "plt.plot(data[:,0],final_pred,color='red')\n",
        "plt.title('Claim Vs Total Payment')\n",
        "plt.xlabel('number of claims')\n",
        "plt.ylabel('total payment for all the claims \\n in thousands of Swedish Kronor')"
      ],
      "execution_count": null,
      "outputs": [
        {
          "output_type": "stream",
          "text": [
            "63\n"
          ],
          "name": "stdout"
        },
        {
          "output_type": "execute_result",
          "data": {
            "text/plain": [
              "Text(0, 0.5, 'total payment for all the claims \\n in thousands of Swedish Kronor')"
            ]
          },
          "metadata": {
            "tags": []
          },
          "execution_count": 23
        },
        {
          "output_type": "display_data",
          "data": {
            "image/png": "[encoded data removed]",
            "text/plain": [
              "<Figure size 432x288 with 1 Axes>"
            ]
          },
          "metadata": {
            "tags": [],
            "needs_background": "light"
          }
        }
      ]
    }
  ]
}