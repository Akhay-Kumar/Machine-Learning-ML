{
  "nbformat": 4,
  "nbformat_minor": 0,
  "metadata": {
    "colab": {
      "name": "Random Forest Classification model.ipynb",
      "provenance": [],
      "collapsed_sections": [],
      "authorship_tag": "ABX9TyMZ+4ZhXy6IOyC+/C2QXrl9",
      "include_colab_link": true
    },
    "kernelspec": {
      "name": "python3",
      "display_name": "Python 3"
    },
    "language_info": {
      "name": "python"
    }
  },
  "cells": [
    {
      "cell_type": "markdown",
      "metadata": {
        "id": "view-in-github",
        "colab_type": "text"
      },
      "source": [
        "<a href=\"https://colab.research.google.com/github/Akhay-Kumar/Machine-Learning-ML/blob/main/Random_Forest_Classification_model.ipynb\" target=\"_parent\"><img src=\"https://colab.research.google.com/assets/colab-badge.svg\" alt=\"Open In Colab\"/></a>"
      ]
    },
    {
      "cell_type": "markdown",
      "metadata": {
        "id": "6aCLn4jvCzbA"
      },
      "source": [
        "In this file, implement Random Forest Classification model for classification on the social network data set for predicting if a customer will buy SUV or not.\n",
        "Compare the accuracy with Decision Tree, SVM and Logistic regression"
      ]
    },
    {
      "cell_type": "code",
      "metadata": {
        "colab": {
          "base_uri": "https://localhost:8080/"
        },
        "id": "i_8tN6wQOZSr",
        "outputId": "b62e7440-ed30-4aec-8a55-48bbc578aa2d"
      },
      "source": [
        "#import Libraries\n",
        "import numpy as np\n",
        "import pandas as pd\n",
        "import matplotlib.pyplot as plt\n",
        "\n",
        "#Reading dataset\n",
        "dataset=pd.read_csv(\"/content/Social_Network_Ads.xls\")\n",
        "print(dataset.head())\n",
        "X=dataset.iloc[:,:-1].values\n",
        "Y=dataset.iloc[:,-1].values\n",
        "print(X.shape)\n",
        "print(Y.shape)\n",
        "\n",
        "#Splitting Train and Test Data\n",
        "from sklearn.model_selection import train_test_split\n",
        "X_train,X_test,Y_train,Y_test=train_test_split(X,Y,test_size=1/5,random_state=0)\n",
        "\n",
        "#Standard Scaling\n",
        "from sklearn.preprocessing import StandardScaler\n",
        "sc=StandardScaler()\n",
        "X_train=sc.fit_transform(X_train)\n",
        "X_test=sc.transform(X_test)\n",
        "\n",
        "#Random Forest classifier\n",
        "from sklearn.ensemble import RandomForestClassifier\n",
        "classifier=RandomForestClassifier(criterion=\"entropy\")\n",
        "classifier.fit(X_train,Y_train)\n",
        "print(classifier.predict(sc.transform([[30,87000]])))\n",
        "\n",
        "Y_pred=classifier.predict(X_test)\n",
        "print(np.concatenate((Y_pred.reshape(len(Y_pred),1),Y_test.reshape(len(Y_test),1)),1))\n",
        "\n",
        "#Accuracy and confusion Metrix\n",
        "from sklearn.metrics import confusion_matrix,accuracy_score\n",
        "cm=confusion_matrix(Y_test,Y_pred)\n",
        "print(cm)\n",
        "print('Social Network Advertisements Random Forest Classification model accuracy_score')\n",
        "print(accuracy_score(Y_test,Y_pred))\n",
        "print('Social Network Advertisements Decision Tree Classification model accuracy_score')\n",
        "print('0.8875')"
      ],
      "execution_count": null,
      "outputs": [
        {
          "output_type": "stream",
          "text": [
            "   Age  EstimatedSalary  Purchased\n",
            "0   19            19000          0\n",
            "1   35            20000          0\n",
            "2   26            43000          0\n",
            "3   27            57000          0\n",
            "4   19            76000          0\n",
            "(400, 2)\n",
            "(400,)\n",
            "[0]\n",
            "[[0 0]\n",
            " [0 0]\n",
            " [0 0]\n",
            " [0 0]\n",
            " [0 0]\n",
            " [0 0]\n",
            " [0 0]\n",
            " [1 1]\n",
            " [0 0]\n",
            " [1 0]\n",
            " [0 0]\n",
            " [0 0]\n",
            " [0 0]\n",
            " [0 0]\n",
            " [0 0]\n",
            " [1 0]\n",
            " [1 0]\n",
            " [0 0]\n",
            " [1 1]\n",
            " [0 0]\n",
            " [0 0]\n",
            " [1 1]\n",
            " [0 0]\n",
            " [1 1]\n",
            " [0 0]\n",
            " [0 1]\n",
            " [0 0]\n",
            " [0 0]\n",
            " [0 0]\n",
            " [0 0]\n",
            " [0 0]\n",
            " [0 1]\n",
            " [1 1]\n",
            " [0 0]\n",
            " [0 0]\n",
            " [0 0]\n",
            " [0 0]\n",
            " [0 0]\n",
            " [0 0]\n",
            " [1 1]\n",
            " [0 0]\n",
            " [0 0]\n",
            " [0 0]\n",
            " [0 0]\n",
            " [1 1]\n",
            " [0 0]\n",
            " [0 0]\n",
            " [1 1]\n",
            " [0 0]\n",
            " [1 1]\n",
            " [1 1]\n",
            " [0 0]\n",
            " [0 0]\n",
            " [0 0]\n",
            " [1 1]\n",
            " [1 1]\n",
            " [0 0]\n",
            " [0 0]\n",
            " [1 1]\n",
            " [0 0]\n",
            " [0 0]\n",
            " [1 1]\n",
            " [0 0]\n",
            " [1 1]\n",
            " [0 0]\n",
            " [1 1]\n",
            " [0 0]\n",
            " [0 0]\n",
            " [0 0]\n",
            " [1 0]\n",
            " [1 1]\n",
            " [0 0]\n",
            " [0 0]\n",
            " [1 1]\n",
            " [0 0]\n",
            " [0 0]\n",
            " [0 0]\n",
            " [0 0]\n",
            " [1 1]\n",
            " [1 1]]\n",
            "[[54  4]\n",
            " [ 2 20]]\n",
            "Social Network Advertisements Random Forest Classification model accuracy_score\n",
            "0.925\n",
            "Social Network Advertisements Decision Tree Classification model accuracy_score\n",
            "0.8875\n"
          ],
          "name": "stdout"
        }
      ]
    },
    {
      "cell_type": "code",
      "metadata": {
        "colab": {
          "base_uri": "https://localhost:8080/",
          "height": 665
        },
        "id": "JFHIxt0aTgyh",
        "outputId": "b67d4051-2500-4cf4-a10f-517529a48f72"
      },
      "source": [
        "from matplotlib.colors import ListedColormap\n",
        "X,Y=X_train,Y_train\n",
        "X1,X2=np.meshgrid(np.arange(start=X[:,0].min()-1,stop=X[:,0].max()+1,step=0.01),np.arange(start=X[:,1].min()-1,stop=X[:,1].max()+1,step=0.01))\n",
        "plt.contourf(X1,X2,classifier.predict(np.array([X1.ravel(),X2.ravel()]).T).reshape(X1.shape),alpha=0.75,cmap=ListedColormap(('lightcoral','lightgreen')))\n",
        "plt.xlim((X1.min(),X1.max()))\n",
        "plt.xlim((X2.min(),X2.max()))\n",
        "for i,j in enumerate(np.unique(Y)):\n",
        " plt.scatter(X[Y==j,0], X[Y==j,1],c=ListedColormap(('red','green'))(i),label=j )\n",
        "plt.title('Random Forest(Train Set)')\n",
        "plt.xlabel('Age')\n",
        "plt.ylabel('Estimated Salary')\n",
        "plt.legend()\n",
        "plt.show()\n",
        "\n",
        "from matplotlib.colors import ListedColormap\n",
        "X,Y=X_test,Y_test\n",
        "X1,X2=np.meshgrid(np.arange(start=X[:,0].min()-1,stop=X[:,0].max()+1,step=0.01),np.arange(start=X[:,1].min()-1,stop=X[:,1].max()+1,step=0.01))\n",
        "plt.contourf(X1,X2,classifier.predict(np.array([X1.ravel(),X2.ravel()]).T).reshape(X1.shape),alpha=0.75,cmap=ListedColormap(('lightcoral','lightgreen')))\n",
        "plt.xlim((X1.min(),X1.max()))\n",
        "plt.xlim((X2.min(),X2.max()))\n",
        "for i,j in enumerate(np.unique(Y)):\n",
        " plt.scatter(X[Y==j,0], X[Y==j,1],c=ListedColormap(('red','green'))(i),label=j )\n",
        "plt.title('Random Forest(Train Set)')\n",
        "plt.xlabel('Age')\n",
        "plt.ylabel('Estimated Salary')\n",
        "plt.legend()\n",
        "plt.show()"
      ],
      "execution_count": null,
      "outputs": [
        {
          "output_type": "stream",
          "text": [
            "*c* argument looks like a single numeric RGB or RGBA sequence, which should be avoided as value-mapping will have precedence in case its length matches with *x* & *y*.  Please use the *color* keyword-argument or provide a 2-D array with a single row if you intend to specify the same RGB or RGBA value for all points.\n",
            "*c* argument looks like a single numeric RGB or RGBA sequence, which should be avoided as value-mapping will have precedence in case its length matches with *x* & *y*.  Please use the *color* keyword-argument or provide a 2-D array with a single row if you intend to specify the same RGB or RGBA value for all points.\n"
          ],
          "name": "stderr"
        },
        {
          "output_type": "display_data",
          "data": {
            "image/png": "[encoded data removed]",
            "text/plain": [
              "<Figure size 432x288 with 1 Axes>"
            ]
          },
          "metadata": {
            "tags": [],
            "needs_background": "light"
          }
        },
        {
          "output_type": "stream",
          "text": [
            "*c* argument looks like a single numeric RGB or RGBA sequence, which should be avoided as value-mapping will have precedence in case its length matches with *x* & *y*.  Please use the *color* keyword-argument or provide a 2-D array with a single row if you intend to specify the same RGB or RGBA value for all points.\n",
            "*c* argument looks like a single numeric RGB or RGBA sequence, which should be avoided as value-mapping will have precedence in case its length matches with *x* & *y*.  Please use the *color* keyword-argument or provide a 2-D array with a single row if you intend to specify the same RGB or RGBA value for all points.\n"
          ],
          "name": "stderr"
        },
        {
          "output_type": "display_data",
          "data": {
            "image/png": "[encoded data removed]",
            "text/plain": [
              "<Figure size 432x288 with 1 Axes>"
            ]
          },
          "metadata": {
            "tags": [],
            "needs_background": "light"
          }
        }
      ]
    }
  ]
}